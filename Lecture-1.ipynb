{
 "cells": [
  {
   "cell_type": "code",
   "execution_count": null,
   "metadata": {},
   "outputs": [],
   "source": []
  },
  {
   "cell_type": "markdown",
   "metadata": {},
   "source": [
    "# Data Analytics 2022: lecture 1\n",
    "\n",
    "\n",
    "<!--NAVIGATION-->\n",
    "[Contents](Index.ipynb) | [Lecture 2](Lecture-2.ipynb)>\n",
    "\n",
    "## Notebook Basics\n",
    "\n",
    "\n",
    "From the [Jupyter Notebook documentation](http://jupyter-notebook.readthedocs.io/en/latest/notebook.html):\n",
    "\n",
    "> The notebook extends the console-based approach to interactive computing in a qualitatively new direction, providing a web-based application suitable for capturing the whole computation process: developing, documenting, and executing code, as well as communicating the results. \n",
    "\n",
    "The Jupyter notebook combines two components:\n",
    "> **A web application**: a browser-based tool for interactive authoring of documents which combine explanatory text, mathematics, computations and their rich media output.\n",
    "\n",
    "> **Notebook documents** : a representation of all content visible in the web application, including inputs and outputs of the computations, explanatory text, mathematics, images, and rich media representations of objects. The extension of a notebook file is `.ipynb`.\n",
    "\n",
    "### Notebooks\n",
    "\n",
    ">A **notebook** consists of a sequence of **cells**. A cell is a multiline text input field, and its contents can be *executed* by using `Shift-Enter`, or by clicking either the “Play” button the toolbar, or *Cell /Run* in the menu bar. \n",
    "\n",
    "<div class=\"alert alert-block alert-info\">\n",
    "    The execution behavior of a cell is determined by the cell’s type.\n",
    "</div>\n",
    "\n",
    "> There are **four** types of cells: **code cells, markdown cells, raw cells** and **heading cells**. Every cell starts off being a code cell, but its type can be changed by using a drop-down on the toolbar (which will be “Code”, initially), or via keyboard shortcuts.\n",
    "\n",
    "We mainly use **code cells** and **markdown cell**.\n",
    "\n",
    "### Code cells\n",
    "\n",
    ">A code cell allows you to edit and write new code, with full syntax highlighting and tab completion. By default, the language associated to a code cell is Python\n",
    ">When a code cell is executed, code that it contains is sent to the kernel associated with the notebook. The results that are returned from this computation are then displayed in the notebook as the cell’s output. The output is not limited to text, with many other possible forms of output are also possible, including matplotlib figures and HTML tables (as used, for example, in the pandas data analysis package). This is known as IPython’s rich display capability.\n",
    "\n",
    "\n",
    "Below you can find our first code cell:"
   ]
  },
  {
   "cell_type": "code",
   "execution_count": 1,
   "metadata": {},
   "outputs": [
    {
     "name": "stdout",
     "output_type": "stream",
     "text": [
      "Hello Data Analytics class\n"
     ]
    }
   ],
   "source": [
    "#\n",
    "# A comment in Python starts with # \n",
    "# This is our first example of python code\n",
    "#\n",
    "\n",
    "print('Hello Data Analytics class')"
   ]
  },
  {
   "cell_type": "code",
   "execution_count": 2,
   "metadata": {},
   "outputs": [
    {
     "name": "stdout",
     "output_type": "stream",
     "text": [
      "10\n",
      "12\n"
     ]
    }
   ],
   "source": [
    "a = 10\n",
    "print(a)\n",
    "a += 2\n",
    "print(a)\n",
    "\n"
   ]
  },
  {
   "cell_type": "markdown",
   "metadata": {},
   "source": [
    "**Observe that:**\n",
    "1. The code contained in the cell is executed as in a classical Python interpreter\n",
    "2. The output is written in the notebook below the cell \n",
    "\n",
    "Variables defined in a cell are __available__ to cell below if you executed the cell. "
   ]
  },
  {
   "cell_type": "code",
   "execution_count": 3,
   "metadata": {},
   "outputs": [
    {
     "name": "stdout",
     "output_type": "stream",
     "text": [
      "12\n",
      "15\n"
     ]
    }
   ],
   "source": [
    "print(a)\n",
    "b = a + 3\n",
    "print(b)"
   ]
  },
  {
   "cell_type": "markdown",
   "metadata": {},
   "source": [
    "<div class=\"alert alert-block alert-info\">\n",
    "    The cell evaluation process is <b>strictly sequential</b>. If you make a change in a cell above, to have the correct content in the current cell you have to execute all cells above (in the Cell Menu there is an entry \"Run All Above\")\n",
    "</div>\n",
    "\n",
    "### Markdown cells\n",
    "\n",
    "You can document the computational process in a literate way, alternating descriptive text with code, using rich text. In IPython this is accomplished by marking up text with the Markdown language. The corresponding cells are called Markdown cells. The Markdown language provides a simple way to perform this text markup, that is, to specify which parts of the text should be emphasized (italics), bold, form lists, etc.\n",
    "\n",
    ">When a Markdown cell is executed, the Markdown code is converted into the corresponding formatted rich text. Markdown allows arbitrary HTML code for formatting.\n",
    "\n",
    "$$ \\sum_{a=1}^n x_i $$\n",
    "\n",
    "Within Markdown cells, you can also include mathematics in a straightforward way, using standard LaTeX notation: \\\\$...\\\\$ for inline mathematics and \\\\$\\\\$...\\\\$\\\\$ for displayed mathematics. When the Markdown cell is executed, the LaTeX portions are automatically rendered in the HTML output as equations with high quality typography. This is made possible by MathJax, which supports a large subset of LaTeX functionality\n",
    "\n",
    ">Standard mathematics environments defined by LaTeX and AMS-LaTeX (the amsmath package) also work.\n",
    "\n",
    "Markdown language [cheat sheet](https://github.com/adam-p/markdown-here/wiki/Markdown-Cheatsheet)\n",
    "\n",
    "\n",
    "1. First ordered list item\n",
    "2. Another item\n",
    "    * Unordered sub-list. \n",
    "1. Actual numbers don't matter, just that it's a number\n",
    "    1. Ordered sub-list\n",
    "    4. And another item.\n",
    "\n",
    "\n",
    "### Interaction trough the browser\n",
    "\n",
    "The web application through a browser  entirely supports notebooks development. \n",
    "You have to know a few things:\n",
    "\n",
    "### Cell modes\n",
    "\n",
    "A cell has two different keyboard input modes. **Edit mode** allows you to type code/text into a cell and is indicated by a **green** cell border. Command mode binds the keyboard to notebook level actions and is indicated by a grey cell border with a **blue** left margin."
   ]
  },
  {
   "cell_type": "markdown",
   "metadata": {},
   "source": [
    "You can switch between the two modes simply by pressing  **`Enter`** to activate\n",
    "the edit mode and **`Esc`** to activate the command mode.\n",
    "\n",
    "\n",
    "\n",
    "### Shortcuts\n",
    "\n",
    "Cell commands are available through the tool-bar menu, \n",
    "but there are also simple shortcuts the you must know:\n",
    "\n",
    "- **`Ctrl+Enter`** runs the current cell.  \n",
    "- **`Shift+Enter`** runs the current cell and jumps to the next cell.   \n",
    "- **`Alt+Enter`** runs the cell and adds a new one below it.\n",
    "\n",
    "If a cell is in command mode one can use keyboard shortcuts.\n",
    "\n",
    "**`h`** shows the help menu with all these commands. \n",
    "\n",
    "\n",
    "<div class=\"alert alert-block alert-info\">\n",
    "Markdown can also load images in the cell. The following help list is a picture file (.png). \n",
    "</div>\n",
    "\n",
    "![alt](figures/Screenhelp.png \"Title\")\n",
    "\n",
    "\n",
    "Most useful shortcuts:\n",
    "\n",
    "* **`m`** switches a cell to **markdown**.  \n",
    "* **`y`** switches a cell to **code**.  \n",
    "* **`a`** adds a cell before the current cell.  \n",
    "* **`b`** adds a cell after the current cell.  \n",
    "* **`dd`** deletes a cell.  \n",
    "\n",
    "\n",
    "\n",
    "\n",
    "### Kernels\n",
    "\n",
    "When you [run code](http://jupyter-notebook.readthedocs.io/en/latest/examples/Notebook/Running%20Code.html), the code is actually executed in a kernel. Sometime a kernel can crash or can get stuck in an endless loop. In all these cases, kernel needs to be interrupted or even restarted. All these operations can be performed by the \"Kernel\" menu.\n",
    "\n",
    "### File Output\n",
    "\n",
    "Remember that a notebook file contains both, the input to a computation and the outputs. If you run a notebook, all the outputs generated by the code cells are also stored in the notebook file. "
   ]
  },
  {
   "cell_type": "markdown",
   "metadata": {
    "collapsed": true
   },
   "source": [
    "## Python introduction\n"
   ]
  },
  {
   "cell_type": "markdown",
   "metadata": {
    "collapsed": true
   },
   "source": [
    "There are plenty of tutorial on Python programming. The following are excellent examples:\n",
    "\n",
    "- [Google's Python Class](https://developers.google.com/edu/python)\n",
    "- [Learn Python Programming](https://www.programiz.com/python-programming)\n",
    "- [A Whirlwind Tour of the Python Language](https://github.com/jakevdp/WhirlwindTourOfPython)\n",
    "\n",
    "In what follows, we discuss the language key features that you should know and practice. \n"
   ]
  },
  {
   "cell_type": "markdown",
   "metadata": {},
   "source": [
    "Python is a **dynamic, interpreted language**. There are no type declarations of variables, parameters, functions, or methods in source code. \n",
    "If you need a variable ``a`` and you want to assign value 6 to ``a`` in Python you do:\n",
    "\n",
    "# Python variable assignment\n",
    "``a = 6``"
   ]
  },
  {
   "cell_type": "code",
   "execution_count": 4,
   "metadata": {},
   "outputs": [],
   "source": [
    "a = 6"
   ]
  },
  {
   "cell_type": "code",
   "execution_count": 5,
   "metadata": {},
   "outputs": [
    {
     "data": {
      "text/plain": [
       "6"
      ]
     },
     "execution_count": 5,
     "metadata": {},
     "output_type": "execute_result"
    }
   ],
   "source": [
    "a"
   ]
  },
  {
   "cell_type": "markdown",
   "metadata": {},
   "source": [
    "```\n",
    "The same assigment in C looks like:\n",
    "\n",
    "/* C variable definition and assignment */\n",
    "int a;\n",
    "a = 6;\n",
    "```\n",
    "The difference is crucial. In C, via variable definition, you reserve a memory bucket, then you put the value 6 into it. \n",
    "In Python you're defining a **pointer** (named ``a``) that points to a container holding the value 6. So, you don't need to declare the variable type and a variable can point different information types (and eventually change type during code execution).\n",
    "\n",
    "By executing the following cell, you can check such a behavior that explains the meaning of _dynamically-typed_ language."
   ]
  },
  {
   "cell_type": "code",
   "execution_count": 6,
   "metadata": {},
   "outputs": [
    {
     "name": "stdout",
     "output_type": "stream",
     "text": [
      "\n",
      "Here is a list of the Python keywords.  Enter any keyword to get more help.\n",
      "\n",
      "False               break               for                 not\n",
      "None                class               from                or\n",
      "True                continue            global              pass\n",
      "__peg_parser__      def                 if                  raise\n",
      "and                 del                 import              return\n",
      "as                  elif                in                  try\n",
      "assert              else                is                  while\n",
      "async               except              lambda              with\n",
      "await               finally             nonlocal            yield\n",
      "\n"
     ]
    }
   ],
   "source": [
    "help(\"keywords\")"
   ]
  },
  {
   "cell_type": "code",
   "execution_count": 7,
   "metadata": {},
   "outputs": [
    {
     "name": "stdout",
     "output_type": "stream",
     "text": [
      "6\n",
      "Hello there\n",
      "[0, 3, 5]\n"
     ]
    }
   ],
   "source": [
    "valore = 6\n",
    "print (valore)\n",
    "valore = 'Hello there'\n",
    "print (valore)\n",
    "valore = [0,3,5]\n",
    "print (valore)"
   ]
  },
  {
   "cell_type": "markdown",
   "metadata": {},
   "source": [
    "**There is a major consequence of this approach:**\n",
    "\n",
    "If two variables point the same **mutable** object then changing one \n",
    "changes the other as well.\n",
    "\n",
    "Consider the following example:"
   ]
  },
  {
   "cell_type": "code",
   "execution_count": 8,
   "metadata": {},
   "outputs": [],
   "source": [
    "a = [1,2,3]\n",
    "b = a"
   ]
  },
  {
   "cell_type": "markdown",
   "metadata": {},
   "source": [
    "Variables ``a`` and ``b`` **point** the same object: the list [1,2,3].\n",
    "Now, if you modify either variable the other will also change.\n",
    "That is:"
   ]
  },
  {
   "cell_type": "code",
   "execution_count": 9,
   "metadata": {},
   "outputs": [
    {
     "name": "stdout",
     "output_type": "stream",
     "text": [
      "[1, 2, 3, 4]\n"
     ]
    }
   ],
   "source": [
    "a.append(4) \n",
    "print(a)"
   ]
  },
  {
   "cell_type": "code",
   "execution_count": 10,
   "metadata": {},
   "outputs": [
    {
     "name": "stdout",
     "output_type": "stream",
     "text": [
      "[1, 2, 3, 4]\n"
     ]
    }
   ],
   "source": [
    "print(b)"
   ]
  },
  {
   "cell_type": "code",
   "execution_count": 11,
   "metadata": {},
   "outputs": [
    {
     "name": "stdout",
     "output_type": "stream",
     "text": [
      "[1, 2, 3, 4, 5]\n",
      "[1, 2, 3, 4, 5]\n"
     ]
    }
   ],
   "source": [
    "b.append(5)\n",
    "\n",
    "print (a)\n",
    "print (b)"
   ]
  },
  {
   "cell_type": "markdown",
   "metadata": {},
   "source": [
    "However, if you assign to a variable another object the other remains unchanged"
   ]
  },
  {
   "cell_type": "code",
   "execution_count": 12,
   "metadata": {},
   "outputs": [
    {
     "name": "stdout",
     "output_type": "stream",
     "text": [
      "[1, 2, 3, 4, 5]\n",
      "Hello there\n"
     ]
    }
   ],
   "source": [
    "b = 'Hello there'\n",
    "\n",
    "print (a)\n",
    "print (b)"
   ]
  },
  {
   "cell_type": "markdown",
   "metadata": {},
   "source": [
    "Now, we have to point out a fundamental difference in Python objects: number and strings are **immutable** objects while lists are **mutable**.\n",
    "\n",
    "Basically, you cannot change the value of a immutable object but you can change what values the variables point to. \n",
    "\n",
    "Example:"
   ]
  },
  {
   "cell_type": "code",
   "execution_count": 13,
   "metadata": {},
   "outputs": [
    {
     "name": "stdout",
     "output_type": "stream",
     "text": [
      "100\n",
      "100\n"
     ]
    }
   ],
   "source": [
    "a = 100\n",
    "b = a \n",
    "\n",
    "print (a)\n",
    "print (b)"
   ]
  },
  {
   "cell_type": "code",
   "execution_count": 14,
   "metadata": {},
   "outputs": [
    {
     "name": "stdout",
     "output_type": "stream",
     "text": [
      "110\n",
      "100\n"
     ]
    }
   ],
   "source": [
    "# Add 10 to a and assign it to a\n",
    "\n",
    "a += 10 # a = a + 10\n",
    "\n",
    "print(a)\n",
    "print(b)"
   ]
  },
  {
   "cell_type": "markdown",
   "metadata": {},
   "source": [
    "When the instruction ``a = a + 10`` is executed the variable ``a`` is changed so that it points to a (new) integer with value 110. Variable ``b`` then is not affected.\n",
    "\n",
    "## Python Strings\n",
    "\n",
    "Strings are important **immutable** Python objects and new\n",
    "strings can be constructed in a way close to integer computation \n",
    "above.\n",
    "\n",
    "In detail:\n",
    "\n",
    "```Python\n",
    "s = 'Hello'\n",
    "t = 'Data' \n",
    "u = 'Analytics'\n",
    "print (s + t + u)\n",
    "```\n",
    "will print out the string 'HelloDataAnalytics' \n",
    "\n",
    "Note the ``+`` operator. It behaves differently depending on its arguments. If you use ``+`` between two integer variables it behaves like the mathematical operator sum. If you use ``+`` between strings it concatenates the strings. In both cases the ``+`` operator does not convert automatically numbers (or other types) to string type. \n",
    "If you try:"
   ]
  },
  {
   "cell_type": "code",
   "execution_count": 15,
   "metadata": {},
   "outputs": [
    {
     "name": "stdout",
     "output_type": "stream",
     "text": [
      "Hi class\n"
     ]
    }
   ],
   "source": [
    "s = 'Hi'\n",
    "t = ' '\n",
    "u = 'class'\n",
    "\n",
    "print (s + t + u)"
   ]
  },
  {
   "cell_type": "code",
   "execution_count": 17,
   "metadata": {},
   "outputs": [
    {
     "name": "stdout",
     "output_type": "stream",
     "text": [
      "There are 52 people in this class\n"
     ]
    }
   ],
   "source": [
    "s = 'There are '\n",
    "a = \"52\"\n",
    "p = ' people in this class'\n",
    "\n",
    "print (s + a + p)"
   ]
  },
  {
   "cell_type": "markdown",
   "metadata": {},
   "source": [
    "you get a ``Type Error``. To concatenate ``string`` and ``integer`` you have to convert the integer object into a string. This is performed by the\n",
    "**function** ``str()``: "
   ]
  },
  {
   "cell_type": "code",
   "execution_count": 18,
   "metadata": {},
   "outputs": [
    {
     "name": "stdout",
     "output_type": "stream",
     "text": [
      "There are 52 people in this class\n"
     ]
    }
   ],
   "source": [
    "s = 'There are '\n",
    "a = 52\n",
    "p = ' people in this class'\n",
    "\n",
    "print (s + str(a) + p)\n",
    "\n"
   ]
  },
  {
   "cell_type": "code",
   "execution_count": 19,
   "metadata": {},
   "outputs": [
    {
     "data": {
      "text/plain": [
       "int"
      ]
     },
     "execution_count": 19,
     "metadata": {},
     "output_type": "execute_result"
    }
   ],
   "source": [
    "a = 10\n",
    "type(a)"
   ]
  },
  {
   "cell_type": "code",
   "execution_count": 20,
   "metadata": {},
   "outputs": [
    {
     "data": {
      "text/plain": [
       "float"
      ]
     },
     "execution_count": 20,
     "metadata": {},
     "output_type": "execute_result"
    }
   ],
   "source": [
    "a = 52.0\n",
    "type(a)"
   ]
  },
  {
   "cell_type": "markdown",
   "metadata": {},
   "source": [
    "If you want to check a type of a Python object you can use the function ``type``. "
   ]
  },
  {
   "cell_type": "code",
   "execution_count": 21,
   "metadata": {},
   "outputs": [
    {
     "data": {
      "text/plain": [
       "int"
      ]
     },
     "execution_count": 21,
     "metadata": {},
     "output_type": "execute_result"
    }
   ],
   "source": [
    "a = 3\n",
    "type(a)"
   ]
  },
  {
   "cell_type": "code",
   "execution_count": 22,
   "metadata": {},
   "outputs": [
    {
     "data": {
      "text/plain": [
       "str"
      ]
     },
     "execution_count": 22,
     "metadata": {},
     "output_type": "execute_result"
    }
   ],
   "source": [
    "a = 'Hi'\n",
    "type(a)"
   ]
  },
  {
   "cell_type": "code",
   "execution_count": 23,
   "metadata": {},
   "outputs": [
    {
     "data": {
      "text/plain": [
       "float"
      ]
     },
     "execution_count": 23,
     "metadata": {},
     "output_type": "execute_result"
    }
   ],
   "source": [
    "a = 1e-9\n",
    "type(a)"
   ]
  },
  {
   "cell_type": "markdown",
   "metadata": {},
   "source": [
    "Broadly speaking, in Python ``a`` is an **object** and its type is not linked to variable name but to the object itself. \n",
    "\n",
    "Python is an **Object-oriented** language.\n",
    "\n",
    "From [Wikipedia](https://en.wikipedia.org/wiki/Object-oriented_programming):\n",
    "\n",
    "> Object-oriented programming (OOP) is a programming paradigm based on the concept of \"objects\", which may contain data, in the form of fields, often known as **attributes**; and code, in the form of procedures, often known as **methods**.\n",
    "\n",
    "## String methods\n",
    "\n",
    "As for strings, you can find all string methods in the official\n",
    "[Python documentation](https://docs.python.org/3.6/library/stdtypes.html#string-methods).\n",
    "\n",
    "Common and useful methods are described in the following.\n",
    "\n",
    "* ``s.lower(), s.upper()``. Return a **copy** of the string with all the cased characters converted to lowercase (uppercase)."
   ]
  },
  {
   "cell_type": "code",
   "execution_count": 24,
   "metadata": {},
   "outputs": [],
   "source": [
    "s = 'Hello'\n",
    "\n"
   ]
  },
  {
   "cell_type": "code",
   "execution_count": 25,
   "metadata": {},
   "outputs": [
    {
     "data": {
      "text/plain": [
       "'HELLO'"
      ]
     },
     "execution_count": 25,
     "metadata": {},
     "output_type": "execute_result"
    }
   ],
   "source": [
    "s.upper()"
   ]
  },
  {
   "cell_type": "code",
   "execution_count": 26,
   "metadata": {},
   "outputs": [
    {
     "name": "stdout",
     "output_type": "stream",
     "text": [
      "hello HELLO\n"
     ]
    },
    {
     "data": {
      "text/plain": [
       "'HELLO'"
      ]
     },
     "execution_count": 26,
     "metadata": {},
     "output_type": "execute_result"
    }
   ],
   "source": [
    "slower = s.lower() # slower is a new string\n",
    "supper = s.upper() # supper is a new string\n",
    "\n",
    "print(slower, supper)\n",
    "\n",
    "slower.upper()"
   ]
  },
  {
   "cell_type": "code",
   "execution_count": 27,
   "metadata": {},
   "outputs": [
    {
     "data": {
      "text/plain": [
       "'Hello'"
      ]
     },
     "execution_count": 27,
     "metadata": {},
     "output_type": "execute_result"
    }
   ],
   "source": [
    "s"
   ]
  },
  {
   "cell_type": "markdown",
   "metadata": {},
   "source": [
    "* ``s.strip()``. Return a **copy** of the string with the leading and trailing characters removed. The chars argument is a string specifying the set of characters to be removed. If omitted or ``None``, the chars argument defaults to removing whitespace. The chars argument is not a prefix or suffix; rather, all combinations of its values are stripped."
   ]
  },
  {
   "cell_type": "code",
   "execution_count": 28,
   "metadata": {},
   "outputs": [
    {
     "data": {
      "text/plain": [
       "'Hello Data Analytics class'"
      ]
     },
     "execution_count": 28,
     "metadata": {},
     "output_type": "execute_result"
    }
   ],
   "source": [
    "s = '  Hello Data Analytics class '\n",
    "\n",
    "st = s.strip()\n",
    "st"
   ]
  },
  {
   "cell_type": "code",
   "execution_count": 29,
   "metadata": {},
   "outputs": [
    {
     "data": {
      "text/plain": [
       "'  Hello Data Analytics class '"
      ]
     },
     "execution_count": 29,
     "metadata": {},
     "output_type": "execute_result"
    }
   ],
   "source": [
    "st = s.strip('Helas')\n",
    "st"
   ]
  },
  {
   "cell_type": "code",
   "execution_count": 30,
   "metadata": {},
   "outputs": [
    {
     "data": {
      "text/plain": [
       "'o Data Analytics c'"
      ]
     },
     "execution_count": 30,
     "metadata": {},
     "output_type": "execute_result"
    }
   ],
   "source": [
    "st = s.strip(' Helas')\n",
    "st"
   ]
  },
  {
   "cell_type": "markdown",
   "metadata": {},
   "source": [
    "* ``s.isalpha()/s.isdigit()/s.isspace()`` Tests if all the string chars are in the various character classes."
   ]
  },
  {
   "cell_type": "code",
   "execution_count": 31,
   "metadata": {},
   "outputs": [
    {
     "data": {
      "text/plain": [
       "True"
      ]
     },
     "execution_count": 31,
     "metadata": {},
     "output_type": "execute_result"
    }
   ],
   "source": [
    "s = 'abc'\n",
    "s.isalpha()"
   ]
  },
  {
   "cell_type": "code",
   "execution_count": 32,
   "metadata": {},
   "outputs": [
    {
     "data": {
      "text/plain": [
       "True"
      ]
     },
     "execution_count": 32,
     "metadata": {},
     "output_type": "execute_result"
    }
   ],
   "source": [
    "s = '123'\n",
    "s.isdigit()"
   ]
  },
  {
   "cell_type": "code",
   "execution_count": 33,
   "metadata": {},
   "outputs": [
    {
     "data": {
      "text/plain": [
       "False"
      ]
     },
     "execution_count": 33,
     "metadata": {},
     "output_type": "execute_result"
    }
   ],
   "source": [
    "s = '12a'\n",
    "s.isalpha()"
   ]
  },
  {
   "cell_type": "code",
   "execution_count": 34,
   "metadata": {},
   "outputs": [
    {
     "data": {
      "text/plain": [
       "False"
      ]
     },
     "execution_count": 34,
     "metadata": {},
     "output_type": "execute_result"
    }
   ],
   "source": [
    "s = '12a'\n",
    "s.isdigit()"
   ]
  },
  {
   "cell_type": "code",
   "execution_count": 35,
   "metadata": {},
   "outputs": [
    {
     "data": {
      "text/plain": [
       "True"
      ]
     },
     "execution_count": 35,
     "metadata": {},
     "output_type": "execute_result"
    }
   ],
   "source": [
    "s = ' '\n",
    "s.isspace()"
   ]
  },
  {
   "cell_type": "markdown",
   "metadata": {},
   "source": [
    "* ``str.startswith(prefix[, start[, end]])``\n",
    "\n",
    "Return ``True`` if string starts with the ``prefix``, otherwise return ``False``. ``prefix`` can also be a tuple of prefixes to look for. With optional ``start``, test string beginning at that position. With optional ``end``, stop comparing string at that position.\n",
    "\n"
   ]
  },
  {
   "cell_type": "code",
   "execution_count": 36,
   "metadata": {},
   "outputs": [
    {
     "data": {
      "text/plain": [
       "True"
      ]
     },
     "execution_count": 36,
     "metadata": {},
     "output_type": "execute_result"
    }
   ],
   "source": [
    "s = 'hello there'\n",
    "\n",
    "s.startswith(('hel','Hel'))"
   ]
  },
  {
   "cell_type": "markdown",
   "metadata": {},
   "source": [
    "* ``str.endswith(suffix[, start[, end]])``\n",
    "\n",
    "Return ``True`` if string starts with the ``suffix``, otherwise return ``False``. ``suffix`` can also be a tuple of prefixes to look for. With optional ``start``, test string beginning at that position. With optional ``end``, stop comparing string at that position.\n"
   ]
  },
  {
   "cell_type": "code",
   "execution_count": 37,
   "metadata": {},
   "outputs": [
    {
     "data": {
      "text/plain": [
       "True"
      ]
     },
     "execution_count": 37,
     "metadata": {},
     "output_type": "execute_result"
    }
   ],
   "source": [
    "s = 'Hello there'\n",
    "\n",
    "s.endswith('here')"
   ]
  },
  {
   "cell_type": "markdown",
   "metadata": {},
   "source": [
    "* ``s.find(sub[,start[,end]])``\n",
    "\n",
    "Return the lowest index in the string where substring ``sub`` is found within the slice s[start:end]. Optional arguments ``start`` and ``end`` are interpreted as in [slice](#slicing) notation. Return -1 if sub is not found.\n"
   ]
  },
  {
   "cell_type": "markdown",
   "metadata": {},
   "source": [
    "String position: 0:1:2:...:n-1"
   ]
  },
  {
   "cell_type": "code",
   "execution_count": 38,
   "metadata": {},
   "outputs": [
    {
     "data": {
      "text/plain": [
       "6"
      ]
     },
     "execution_count": 38,
     "metadata": {},
     "output_type": "execute_result"
    }
   ],
   "source": [
    "s = 'Hello there there'\n",
    "s.find('there')"
   ]
  },
  {
   "cell_type": "code",
   "execution_count": 39,
   "metadata": {},
   "outputs": [
    {
     "data": {
      "text/plain": [
       "12"
      ]
     },
     "execution_count": 39,
     "metadata": {},
     "output_type": "execute_result"
    }
   ],
   "source": [
    "s = 'Hello there there'\n",
    "s.find('there',8)"
   ]
  },
  {
   "cell_type": "code",
   "execution_count": 40,
   "metadata": {},
   "outputs": [
    {
     "data": {
      "text/plain": [
       "-1"
      ]
     },
     "execution_count": 40,
     "metadata": {},
     "output_type": "execute_result"
    }
   ],
   "source": [
    "s.find('hel')"
   ]
  },
  {
   "cell_type": "markdown",
   "metadata": {},
   "source": [
    "<div class=\"alert alert-block alert-info\">\n",
    "    <b>Note</b>: The <code>find()</code> method should be used only if you need to know the position of the substring. To check if <code>'sub'</code> is a substring or not, use the <code>in</code> <b>operator</b> as follows:\n",
    "</div>"
   ]
  },
  {
   "cell_type": "code",
   "execution_count": 41,
   "metadata": {},
   "outputs": [
    {
     "data": {
      "text/plain": [
       "True"
      ]
     },
     "execution_count": 41,
     "metadata": {},
     "output_type": "execute_result"
    }
   ],
   "source": [
    "'Hel' in 'Hello' "
   ]
  },
  {
   "cell_type": "markdown",
   "metadata": {},
   "source": [
    "* ``str.replace(old, new[, count])``\n",
    "\n",
    "Return a **copy** of the string with all occurrences of substring old replaced by new. If the optional argument count is given, only the first count occurrences are replaced.\n"
   ]
  },
  {
   "cell_type": "code",
   "execution_count": 42,
   "metadata": {},
   "outputs": [
    {
     "data": {
      "text/plain": [
       "'Ciao there'"
      ]
     },
     "execution_count": 42,
     "metadata": {},
     "output_type": "execute_result"
    }
   ],
   "source": [
    "s = 'Hello there'\n",
    "s.replace('Hello', 'Ciao')"
   ]
  },
  {
   "cell_type": "code",
   "execution_count": 43,
   "metadata": {},
   "outputs": [
    {
     "name": "stdout",
     "output_type": "stream",
     "text": [
      "Hello there\n"
     ]
    }
   ],
   "source": [
    "print(s)"
   ]
  },
  {
   "cell_type": "markdown",
   "metadata": {},
   "source": [
    "* ``s.split(sep=None,maxsplit=-1)``\n",
    "\n",
    "Return a list of the words in the string, using ``sep`` as the delimiter string. If ``maxsplit`` is given, at most maxsplit splits are done (thus, the list will have at most maxsplit+1 elements). If ``maxsplit`` is not specified or -1, then there is no limit on the number of splits (all possible splits are made).\n",
    "\n",
    "If ``sep`` is given, **consecutive delimiters are not grouped together** and are deemed to delimit empty strings (for example, '1,,2'.split(',') returns ['1', '', '2']). \n",
    "\n",
    "The sep argument may consist of multiple characters (for example, '1<>2<>3'.split('<>') returns ['1', '2', '3']). \n",
    "\n",
    "Splitting an empty string with a specified separator returns [''].\n",
    "\n"
   ]
  },
  {
   "cell_type": "code",
   "execution_count": 44,
   "metadata": {},
   "outputs": [
    {
     "data": {
      "text/plain": [
       "['A', 'B', 'C']"
      ]
     },
     "execution_count": 44,
     "metadata": {},
     "output_type": "execute_result"
    }
   ],
   "source": [
    "'A B C'.split()"
   ]
  },
  {
   "cell_type": "code",
   "execution_count": 45,
   "metadata": {},
   "outputs": [],
   "source": [
    "stringtest = 'a,b,c'"
   ]
  },
  {
   "cell_type": "code",
   "execution_count": 46,
   "metadata": {},
   "outputs": [],
   "source": [
    "test = stringtest.split()"
   ]
  },
  {
   "cell_type": "code",
   "execution_count": 47,
   "metadata": {},
   "outputs": [
    {
     "data": {
      "text/plain": [
       "str"
      ]
     },
     "execution_count": 47,
     "metadata": {},
     "output_type": "execute_result"
    }
   ],
   "source": [
    "type(stringtest)"
   ]
  },
  {
   "cell_type": "code",
   "execution_count": 48,
   "metadata": {},
   "outputs": [
    {
     "data": {
      "text/plain": [
       "['a', 'b', 'c']"
      ]
     },
     "execution_count": 48,
     "metadata": {},
     "output_type": "execute_result"
    }
   ],
   "source": [
    "'a,b,c'.split(',')"
   ]
  },
  {
   "cell_type": "code",
   "execution_count": 49,
   "metadata": {},
   "outputs": [
    {
     "data": {
      "text/plain": [
       "['a', 'b,c']"
      ]
     },
     "execution_count": 49,
     "metadata": {},
     "output_type": "execute_result"
    }
   ],
   "source": [
    "'a,b,c'.split(',',1)"
   ]
  },
  {
   "cell_type": "code",
   "execution_count": 50,
   "metadata": {},
   "outputs": [
    {
     "data": {
      "text/plain": [
       "['a', '', 'b', '', 'c']"
      ]
     },
     "execution_count": 50,
     "metadata": {},
     "output_type": "execute_result"
    }
   ],
   "source": [
    "'a--b--c'.split('-') "
   ]
  },
  {
   "cell_type": "markdown",
   "metadata": {},
   "source": [
    "If ``sep`` is not specified or is ``None``, a different splitting algorithm is applied: runs of consecutive whitespace are regarded as a single separator, and the result will contain no empty strings at the start or end if the string has leading or trailing whitespace. Consequently, splitting an empty string or a string consisting of just whitespace with a None separator returns []."
   ]
  },
  {
   "cell_type": "code",
   "execution_count": 51,
   "metadata": {},
   "outputs": [
    {
     "data": {
      "text/plain": [
       "['a', 'b', 'c']"
      ]
     },
     "execution_count": 51,
     "metadata": {},
     "output_type": "execute_result"
    }
   ],
   "source": [
    "' a   b   c  '.split()"
   ]
  },
  {
   "cell_type": "markdown",
   "metadata": {},
   "source": [
    "\n",
    "* str.join(iterable)\n",
    "\n",
    "Return a string which is the concatenation of the strings in the iterable ``iterable``. A ``TypeError`` will be raised if there are any non-string values in iterable, including bytes objects. The separator between elements is the string providing this method.\n"
   ]
  },
  {
   "cell_type": "code",
   "execution_count": 52,
   "metadata": {},
   "outputs": [
    {
     "data": {
      "text/plain": [
       "'What**a**string'"
      ]
     },
     "execution_count": 52,
     "metadata": {},
     "output_type": "execute_result"
    }
   ],
   "source": [
    "'**'.join(['What','a', 'string'])"
   ]
  },
  {
   "cell_type": "code",
   "execution_count": 53,
   "metadata": {},
   "outputs": [
    {
     "data": {
      "text/plain": [
       "'Fabrizio:Rossi:ID:95020'"
      ]
     },
     "execution_count": 53,
     "metadata": {},
     "output_type": "execute_result"
    }
   ],
   "source": [
    "':'.join(['Fabrizio','Rossi','ID','95020'])"
   ]
  },
  {
   "cell_type": "markdown",
   "metadata": {},
   "source": [
    "## Slicing\n",
    "<a id='slicing'></a>"
   ]
  },
  {
   "cell_type": "markdown",
   "metadata": {},
   "source": [
    "The slice syntax is a nice Python feature. \n",
    "\n",
    "Suppose to have the string ``s = 'Alberto'``. \n",
    "\n",
    "The slice ``s[start:end]`` is the elements **beginning** at ``start`` and **extending up to but not including** ``end``."
   ]
  },
  {
   "cell_type": "code",
   "execution_count": 54,
   "metadata": {},
   "outputs": [],
   "source": [
    "s = 'Alberto'"
   ]
  },
  {
   "cell_type": "markdown",
   "metadata": {},
   "source": [
    " | s = | 'A | l | b | e | r | t | o' \n",
    "--- | --- | --- | --- | --- | --- | --- | --- \n",
    "**index**| 0 | 1 | 2 | 3 | 4 | 5 | 6\n",
    "**index**| -7 | -6 | -5 | -4 | -3 | -2 | -1\n",
    "\n"
   ]
  },
  {
   "cell_type": "code",
   "execution_count": 55,
   "metadata": {},
   "outputs": [
    {
     "data": {
      "text/plain": [
       "'A'"
      ]
     },
     "execution_count": 55,
     "metadata": {},
     "output_type": "execute_result"
    }
   ],
   "source": [
    "s[0]"
   ]
  },
  {
   "cell_type": "code",
   "execution_count": 56,
   "metadata": {},
   "outputs": [
    {
     "data": {
      "text/plain": [
       "'e'"
      ]
     },
     "execution_count": 56,
     "metadata": {},
     "output_type": "execute_result"
    }
   ],
   "source": [
    "s[-4]"
   ]
  },
  {
   "cell_type": "code",
   "execution_count": 57,
   "metadata": {},
   "outputs": [
    {
     "data": {
      "text/plain": [
       "'lber'"
      ]
     },
     "execution_count": 57,
     "metadata": {},
     "output_type": "execute_result"
    }
   ],
   "source": [
    "s[1:5]"
   ]
  },
  {
   "cell_type": "code",
   "execution_count": 58,
   "metadata": {},
   "outputs": [
    {
     "data": {
      "text/plain": [
       "''"
      ]
     },
     "execution_count": 58,
     "metadata": {},
     "output_type": "execute_result"
    }
   ],
   "source": [
    "s[-1:-6]"
   ]
  },
  {
   "cell_type": "code",
   "execution_count": 59,
   "metadata": {},
   "outputs": [
    {
     "data": {
      "text/plain": [
       "''"
      ]
     },
     "execution_count": 59,
     "metadata": {},
     "output_type": "execute_result"
    }
   ],
   "source": [
    "s[5:3]"
   ]
  },
  {
   "cell_type": "code",
   "execution_count": 60,
   "metadata": {},
   "outputs": [
    {
     "data": {
      "text/plain": [
       "'Alber'"
      ]
     },
     "execution_count": 60,
     "metadata": {},
     "output_type": "execute_result"
    }
   ],
   "source": [
    "s[:5]"
   ]
  },
  {
   "cell_type": "code",
   "execution_count": 61,
   "metadata": {},
   "outputs": [
    {
     "data": {
      "text/plain": [
       "'to'"
      ]
     },
     "execution_count": 61,
     "metadata": {},
     "output_type": "execute_result"
    }
   ],
   "source": [
    "s[5:]"
   ]
  },
  {
   "cell_type": "code",
   "execution_count": 62,
   "metadata": {},
   "outputs": [
    {
     "data": {
      "text/plain": [
       "'Albe'"
      ]
     },
     "execution_count": 62,
     "metadata": {},
     "output_type": "execute_result"
    }
   ],
   "source": [
    "s[:-3]"
   ]
  },
  {
   "cell_type": "code",
   "execution_count": 63,
   "metadata": {},
   "outputs": [
    {
     "data": {
      "text/plain": [
       "'rto'"
      ]
     },
     "execution_count": 63,
     "metadata": {},
     "output_type": "execute_result"
    }
   ],
   "source": [
    "s[-3:]"
   ]
  },
  {
   "cell_type": "code",
   "execution_count": 64,
   "metadata": {},
   "outputs": [
    {
     "data": {
      "text/plain": [
       "'Alberto'"
      ]
     },
     "execution_count": 64,
     "metadata": {},
     "output_type": "execute_result"
    }
   ],
   "source": [
    "s[:-3] + s[-3:]"
   ]
  },
  {
   "cell_type": "code",
   "execution_count": 65,
   "metadata": {},
   "outputs": [
    {
     "data": {
      "text/plain": [
       "'Alberto'"
      ]
     },
     "execution_count": 65,
     "metadata": {},
     "output_type": "execute_result"
    }
   ],
   "source": [
    "s[:4] + s[4:]"
   ]
  },
  {
   "cell_type": "code",
   "execution_count": 66,
   "metadata": {},
   "outputs": [
    {
     "data": {
      "text/plain": [
       "'Alberto'"
      ]
     },
     "execution_count": 66,
     "metadata": {},
     "output_type": "execute_result"
    }
   ],
   "source": [
    "s[-56:]"
   ]
  },
  {
   "cell_type": "code",
   "execution_count": 67,
   "metadata": {},
   "outputs": [
    {
     "data": {
      "text/plain": [
       "'Alberto'"
      ]
     },
     "execution_count": 67,
     "metadata": {},
     "output_type": "execute_result"
    }
   ],
   "source": [
    "s[0:100]"
   ]
  },
  {
   "cell_type": "code",
   "execution_count": 68,
   "metadata": {},
   "outputs": [
    {
     "name": "stdout",
     "output_type": "stream",
     "text": [
      "lbe\n",
      "Alberto\n",
      "rto\n",
      "Albe\n",
      "Alberto\n"
     ]
    }
   ],
   "source": [
    "print(s[1:4])\n",
    "print(s[:])\n",
    "print(s[-3:])\n",
    "print(s[:-3])\n",
    "print(s[:4]+s[4:])"
   ]
  }
 ],
 "metadata": {
  "kernelspec": {
   "display_name": "Python 3 (ipykernel)",
   "language": "python",
   "name": "python3"
  },
  "language_info": {
   "codemirror_mode": {
    "name": "ipython",
    "version": 3
   },
   "file_extension": ".py",
   "mimetype": "text/x-python",
   "name": "python",
   "nbconvert_exporter": "python",
   "pygments_lexer": "ipython3",
   "version": "3.9.13"
  }
 },
 "nbformat": 4,
 "nbformat_minor": 2
}
