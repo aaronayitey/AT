{
 "cells": [
  {
   "cell_type": "code",
   "execution_count": null,
   "metadata": {
    "id": "GY0RZBKvFJlK"
   },
   "outputs": [],
   "source": []
  },
  {
   "cell_type": "markdown",
   "metadata": {
    "id": "lGcLG6XvFJlA"
   },
   "source": [
    "## Exercise\n",
    "\n",
    "**Make a copy of this note book and answer the questions or complete the tasks outlined in bold below, use the specific method described if applicable.**\n"
   ]
  },
  {
   "cell_type": "markdown",
   "metadata": {
    "id": "EU-zzP8hFJlL"
   },
   "source": [
    "# Q1\n",
    "** What is 7 to the power of 4?**"
   ]
  },
  {
   "cell_type": "code",
   "execution_count": null,
   "metadata": {
    "colab": {
     "base_uri": "https://localhost:8080/"
    },
    "executionInfo": {
     "elapsed": 337,
     "status": "ok",
     "timestamp": 1632779260156,
     "user": {
      "displayName": "Data Science August",
      "photoUrl": "https://lh3.googleusercontent.com/a/default-user=s64",
      "userId": "08053122235294494910"
     },
     "user_tz": 480
    },
    "id": "Z16pMMWAFJlN",
    "outputId": "66c67a3f-17f3-458f-e635-9ecac09cfc5b"
   },
   "outputs": [
    {
     "name": "stdout",
     "output_type": "stream",
     "text": [
      "2401\n"
     ]
    }
   ],
   "source": [
    "\n"
   ]
  },
  {
   "cell_type": "markdown",
   "metadata": {
    "id": "RwL0Mw2iFJlQ"
   },
   "source": [
    "# Q 2\n",
    "** Split this string:**\n",
    "\n",
    "    s = \"Hi there Sam!\"\n",
    "    \n",
    "**into a list. **"
   ]
  },
  {
   "cell_type": "code",
   "execution_count": null,
   "metadata": {
    "colab": {
     "base_uri": "https://localhost:8080/"
    },
    "collapsed": true,
    "executionInfo": {
     "elapsed": 293,
     "status": "ok",
     "timestamp": 1632779882680,
     "user": {
      "displayName": "Data Science August",
      "photoUrl": "https://lh3.googleusercontent.com/a/default-user=s64",
      "userId": "08053122235294494910"
     },
     "user_tz": 480
    },
    "id": "YjOAtYOeFJlR",
    "outputId": "7477830a-ad61-4064-99a9-4f2d3dfe3397"
   },
   "outputs": [
    {
     "name": "stdout",
     "output_type": "stream",
     "text": [
      "['hi', 'there', 'Sam!']\n"
     ]
    }
   ],
   "source": [
    "\n"
   ]
  },
  {
   "cell_type": "markdown",
   "metadata": {},
   "source": [
    "Can you alter `s` to read `['hi', 'there', 'dad!']`?"
   ]
  },
  {
   "cell_type": "code",
   "execution_count": null,
   "metadata": {
    "colab": {
     "base_uri": "https://localhost:8080/"
    },
    "executionInfo": {
     "elapsed": 408,
     "status": "ok",
     "timestamp": 1632779934674,
     "user": {
      "displayName": "Data Science August",
      "photoUrl": "https://lh3.googleusercontent.com/a/default-user=s64",
      "userId": "08053122235294494910"
     },
     "user_tz": 480
    },
    "id": "HqKaTlv1FJlR",
    "outputId": "87fecc7c-6562-4afd-d5f0-819e072aa636"
   },
   "outputs": [
    {
     "name": "stdout",
     "output_type": "stream",
     "text": [
      "['hi', 'there', 'dad!']\n"
     ]
    }
   ],
   "source": []
  },
  {
   "cell_type": "markdown",
   "metadata": {
    "id": "3bgsK6GXFJlT"
   },
   "source": [
    "# Q3\n",
    "** Given the variables:**\n",
    "\n",
    "    planet = \"Earth\"\n",
    "    diameter = 12742\n",
    "\n",
    "** Use .format() to print the following string: **\n",
    "\n",
    "    The diameter of Earth is 12742 kilometers."
   ]
  },
  {
   "cell_type": "code",
   "execution_count": null,
   "metadata": {
    "collapsed": true,
    "id": "A59saJS2FJlU"
   },
   "outputs": [],
   "source": [
    "planet = \"Earth\"\n",
    "diameter = 12742"
   ]
  },
  {
   "cell_type": "code",
   "execution_count": null,
   "metadata": {
    "colab": {
     "base_uri": "https://localhost:8080/"
    },
    "executionInfo": {
     "elapsed": 382,
     "status": "ok",
     "timestamp": 1632780449849,
     "user": {
      "displayName": "Data Science August",
      "photoUrl": "https://lh3.googleusercontent.com/a/default-user=s64",
      "userId": "08053122235294494910"
     },
     "user_tz": 480
    },
    "id": "sGs2gkWJFJlW",
    "outputId": "3f84e9d0-698c-4be4-9155-af7e699e289c"
   },
   "outputs": [
    {
     "name": "stdout",
     "output_type": "stream",
     "text": [
      "The diameter of Earth is 12742 kilometers\n"
     ]
    }
   ],
   "source": []
  },
  {
   "cell_type": "markdown",
   "metadata": {
    "id": "DbiE97QeFJlX"
   },
   "source": [
    "# Q4\n",
    "** Given this nested list, use indexing to grab the word \"hello\" **"
   ]
  },
  {
   "cell_type": "code",
   "execution_count": null,
   "metadata": {
    "collapsed": true,
    "id": "ylng4ZhKFJlY"
   },
   "outputs": [],
   "source": [
    "lst = [1,2,[3,4],[5,[100,200,['hello']],23,11],1,7]"
   ]
  },
  {
   "cell_type": "code",
   "execution_count": null,
   "metadata": {
    "colab": {
     "base_uri": "https://localhost:8080/"
    },
    "executionInfo": {
     "elapsed": 409,
     "status": "ok",
     "timestamp": 1632781253214,
     "user": {
      "displayName": "Data Science August",
      "photoUrl": "https://lh3.googleusercontent.com/a/default-user=s64",
      "userId": "08053122235294494910"
     },
     "user_tz": 480
    },
    "id": "V7iwy2n_FJlZ",
    "outputId": "47cac249-a84b-40b8-f381-4a9e73411e0a"
   },
   "outputs": [
    {
     "name": "stdout",
     "output_type": "stream",
     "text": [
      "hello\n"
     ]
    }
   ],
   "source": [
    "lst = [1,2,[3,4],[5,[100,200,['hello']],23,11],1,7]\n"
   ]
  },
  {
   "cell_type": "markdown",
   "metadata": {
    "id": "CTiDifNOFJlZ"
   },
   "source": [
    "# Q5\n",
    "** Given this nested dictionary grab the word \"hello\". Be prepared, this will be annoying/tricky **"
   ]
  },
  {
   "cell_type": "code",
   "execution_count": null,
   "metadata": {
    "colab": {
     "base_uri": "https://localhost:8080/",
     "height": 36
    },
    "executionInfo": {
     "elapsed": 333,
     "status": "ok",
     "timestamp": 1632786067889,
     "user": {
      "displayName": "Data Science August",
      "photoUrl": "https://lh3.googleusercontent.com/a/default-user=s64",
      "userId": "08053122235294494910"
     },
     "user_tz": 480
    },
    "id": "hjMlIsqvFJla",
    "outputId": "1521f159-a86e-4bde-f5be-1fa96a2a66df"
   },
   "outputs": [
    {
     "data": {
      "application/vnd.google.colaboratory.intrinsic+json": {
       "type": "string"
      },
      "text/plain": [
       "'hello'"
      ]
     },
     "execution_count": 19,
     "metadata": {},
     "output_type": "execute_result"
    }
   ],
   "source": [
    "d = {'k1':[1,2,3,{'tricky':['oh','man','inception',{'target':[1,2,3,'hello']}]}]}\n"
   ]
  },
  {
   "cell_type": "markdown",
   "metadata": {
    "id": "dpi9edrxFJlb"
   },
   "source": [
    "# Q6\n",
    "** What is the main difference between a tuple and a list? **"
   ]
  },
  {
   "cell_type": "code",
   "execution_count": null,
   "metadata": {
    "collapsed": true,
    "id": "1HiaaTAJFJlb"
   },
   "outputs": [],
   "source": []
  },
  {
   "cell_type": "markdown",
   "metadata": {
    "id": "IQgAzWg0FJlc"
   },
   "source": [
    "# Q7\n",
    "Write a Python program that takes a string as input and calculates the frequency of each character in the string. \n",
    "\n",
    "The program should then display the character frequencies as a dictionary where the keys are characters, and the values are the number of times each character appears in the string.\"\n",
    "\n",
    "Fill-in the skeleton code to acomplish this task."
   ]
  },
  {
   "cell_type": "code",
   "execution_count": 1,
   "metadata": {},
   "outputs": [
    {
     "name": "stdout",
     "output_type": "stream",
     "text": [
      "Character frequency: {'A': 1, 'a': 4, 'r': 2, 'o': 1, 'n': 1, ' ': 4, 'i': 1, 's': 3, 'g': 1, 'e': 2, 't': 2}\n"
     ]
    }
   ],
   "source": [
    "# Character Frequency\n",
    "\n",
    "# Prompt the user to enter a string and store it in the 'input_string' variable\n",
    "input_string = input(\"Enter a string: \")\n",
    "\n",
    "# Create an empty dictionary 'char_frequency' to store character frequencies\n",
    "char_frequency = {}\n",
    "\n",
    "# Iterate through each character in the 'input_string'\n",
    "___________________:\n",
    "    # Check if the character is already in the 'char_frequency' dictionary\n",
    "    if char in char_frequency:\n",
    "        # If it exists, increment its count by 1\n",
    "        char_frequency[char] += 1\n",
    "    else:\n",
    "        # If it doesn't exist, initialize its count to 1\n",
    "        _________________ = 1\n",
    "\n",
    "# Print the character frequencies in the form of a dictionary\n",
    "print(\"Character frequency:\", ___________)\n"
   ]
  },
  {
   "cell_type": "markdown",
   "metadata": {
    "id": "JGRykyXiFJld"
   },
   "source": [
    "# Q8\n",
    "Write a Python program that takes a string as input from the user and counts the number of words in the string. \n",
    "\n",
    "The program should consider words to be separated by whitespace (spaces or tabs). \n",
    "\n",
    "After processing the input, it should display the total word count.\n",
    "\n",
    "\n",
    "## Hint: \n",
    "\n",
    "The code provided addresses this problem by splitting the input string into words using the split() method \n",
    "\n",
    "and then counting the number of words in the resulting list. \n",
    "\n",
    "It finally prints the word count.\n",
    "\n",
    "The `split()` method in Python is a built-in string method that is used to split a string into a list of substrings based on a specified delimiter. \n",
    "\n",
    "Here's a brief explanation of how the `split()` method works:\n",
    "\n",
    "- Syntax: `string.split([separator[, maxsplit]])`\n",
    "  - `string`: The original string that you want to split.\n",
    "  - `separator` (optional): This parameter is used to specify the delimiter on which the string should be split. \n",
    "  \n",
    "  If not provided, it defaults to whitespace (spaces and tabs).\n",
    "  - `maxsplit` (optional): This parameter specifies the maximum number of splits to be made. \n",
    "  \n",
    "  If not provided, there is no limit to the number of splits.\n",
    "\n",
    "The `split()` method returns a list of substrings obtained by splitting the original string at each occurrence of the delimiter. \n",
    "\n",
    "The resulting substrings are stored in a list, and this list is returned as the output.\n"
   ]
  },
  {
   "cell_type": "code",
   "execution_count": null,
   "metadata": {
    "colab": {
     "base_uri": "https://localhost:8080/"
    },
    "collapsed": true,
    "executionInfo": {
     "elapsed": 320,
     "status": "ok",
     "timestamp": 1632795248407,
     "user": {
      "displayName": "Data Science August",
      "photoUrl": "https://lh3.googleusercontent.com/a/default-user=s64",
      "userId": "08053122235294494910"
     },
     "user_tz": 600
    },
    "id": "sICk2e7jFJld",
    "outputId": "5aa8ee3e-6926-4dda-ef0b-a42d92840f81"
   },
   "outputs": [],
   "source": [
    "# Prompt the user to enter a string and store it in the 'input_string' variable\n",
    "input_string = __________\n",
    "\n",
    "# Split the input string into words based on whitespace (spaces and tabs)\n",
    "words = input_string.split()\n",
    "\n",
    "# Count the number of words in the 'words' list\n",
    "word_count = len(words)\n",
    "\n",
    "# Print the number of words in the input string\n",
    "print(\"Number of words:\", _______)"
   ]
  },
  {
   "attachments": {
    "image.png": {
     "image/png": "[encoded data removed]"
    }
   },
   "cell_type": "markdown",
   "metadata": {
    "id": "3PWxTQz-FJle"
   },
   "source": [
    "# Q9\n",
    "\n",
    "## BMI Calculator\n",
    "\n",
    "Write a Python program that calculates and categorizes BMI (Body Mass Index) based on user input. T\n",
    "\n",
    "he program should take the following actions:\n",
    "\n",
    "Prompt the user to enter their weight in kilograms (float).\n",
    "Prompt the user to enter their height in meters (float).\n",
    "Calculate the BMI using the formula:\n",
    "\n",
    "\n",
    "![image.png](attachment:image.png)\n",
    " \n",
    "\n",
    "Display the calculated BMI.\n",
    "\n",
    "Categorize the BMI according to the following ranges:\n",
    "\n",
    "BMI less than 18.5: \"Underweight\" <br>\n",
    "BMI between 18.5 and 24.9: \"Normal Weight\"<br>\n",
    "BMI between 25 and 29.9: \"Overweight\"<br>\n",
    "BMI 30 or greater: \"Obese\"<br>\n",
    "Display the corresponding BMI category."
   ]
  },
  {
   "cell_type": "code",
   "execution_count": null,
   "metadata": {
    "colab": {
     "base_uri": "https://localhost:8080/"
    },
    "executionInfo": {
     "elapsed": 329,
     "status": "ok",
     "timestamp": 1632795532911,
     "user": {
      "displayName": "Data Science August",
      "photoUrl": "https://lh3.googleusercontent.com/a/default-user=s64",
      "userId": "08053122235294494910"
     },
     "user_tz": 600
    },
    "id": "C2kwAy36FJle",
    "outputId": "565c965f-8397-4683-cc21-64796bbf93ea"
   },
   "outputs": [],
   "source": [
    "# Prompt the user to enter their weight in kilograms and height in meters\n",
    "weight = float(input(\"Enter your weight in kilograms: \"))\n",
    "height = float(input(\"Enter your height in meters: \"))\n",
    "\n",
    "# Calculate BMI using the formula\n",
    "bmi = weight / (height ** 2)\n",
    "\n",
    "# Display the calculated BMI\n",
    "print(\"Your BMI is:\", bmi)\n",
    "\n",
    "# Categorize the BMI based on predefined ranges\n",
    "if _______:\n",
    "    category = \"Underweight\"\n",
    "elif ________:\n",
    "    category = \"Normal Weight\"\n",
    "elif _________:\n",
    "    category = \"Overweight\"\n",
    "else:\n",
    "    category = \"Obese\"\n",
    "\n",
    "# Display the corresponding BMI category\n",
    "print(\"BMI Category:\", category)\n"
   ]
  },
  {
   "cell_type": "markdown",
   "metadata": {
    "id": "tNvwPdidFJlf"
   },
   "source": [
    "# Q10\n",
    "Write a simple program to display even numbers from 2 to 20\n"
   ]
  },
  {
   "cell_type": "markdown",
   "metadata": {
    "id": "xZ94Az1XFJlg"
   },
   "source": [
    "# Good Luck!"
   ]
  }
 ],
 "metadata": {
  "colab": {
   "collapsed_sections": [],
   "name": "Python programming  Exercise.ipynb",
   "provenance": []
  },
  "kernelspec": {
   "display_name": "Python 3 (ipykernel)",
   "language": "python",
   "name": "python3"
  },
  "language_info": {
   "codemirror_mode": {
    "name": "ipython",
    "version": 3
   },
   "file_extension": ".py",
   "mimetype": "text/x-python",
   "name": "python",
   "nbconvert_exporter": "python",
   "pygments_lexer": "ipython3",
   "version": "3.10.9"
  }
 },
 "nbformat": 4,
 "nbformat_minor": 1
}
