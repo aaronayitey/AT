{
 "cells": [
  {
   "cell_type": "code",
   "execution_count": null,
   "metadata": {
    "id": "GY0RZBKvFJlK"
   },
   "outputs": [],
   "source": []
  },
  {
   "cell_type": "markdown",
   "metadata": {
    "id": "lGcLG6XvFJlA"
   },
   "source": [
    "## Exercise\n",
    "\n",
    "**Make a copy of this note book and answer the questions or complete the tasks outlined in bold below, use the specific method described if applicable.**\n"
   ]
  },
  {
   "cell_type": "markdown",
   "metadata": {
    "id": "EU-zzP8hFJlL"
   },
   "source": [
    "# Q1\n",
    "** What is 7 to the power of 4?**"
   ]
  },
  {
   "cell_type": "code",
   "execution_count": null,
   "metadata": {
    "colab": {
     "base_uri": "https://localhost:8080/"
    },
    "executionInfo": {
     "elapsed": 337,
     "status": "ok",
     "timestamp": 1632779260156,
     "user": {
      "displayName": "Data Science August",
      "photoUrl": "https://lh3.googleusercontent.com/a/default-user=s64",
      "userId": "08053122235294494910"
     },
     "user_tz": 480
    },
    "id": "Z16pMMWAFJlN",
    "outputId": "66c67a3f-17f3-458f-e635-9ecac09cfc5b"
   },
   "outputs": [
    {
     "name": "stdout",
     "output_type": "stream",
     "text": [
      "2401\n"
     ]
    }
   ],
   "source": [
    "print(7**4)\n"
   ]
  },
  {
   "cell_type": "markdown",
   "metadata": {
    "id": "RwL0Mw2iFJlQ"
   },
   "source": [
    "# Q 2\n",
    "** Split this string:**\n",
    "\n",
    "    s = \"Hi there Sam!\"\n",
    "    \n",
    "**into a list. **"
   ]
  },
  {
   "cell_type": "code",
   "execution_count": null,
   "metadata": {
    "colab": {
     "base_uri": "https://localhost:8080/"
    },
    "collapsed": true,
    "executionInfo": {
     "elapsed": 293,
     "status": "ok",
     "timestamp": 1632779882680,
     "user": {
      "displayName": "Data Science August",
      "photoUrl": "https://lh3.googleusercontent.com/a/default-user=s64",
      "userId": "08053122235294494910"
     },
     "user_tz": 480
    },
    "id": "YjOAtYOeFJlR",
    "outputId": "7477830a-ad61-4064-99a9-4f2d3dfe3397"
   },
   "outputs": [
    {
     "name": "stdout",
     "output_type": "stream",
     "text": [
      "['hi', 'there', 'Sam!']\n"
     ]
    }
   ],
   "source": [
    "s = 'hi there Sam!'\n",
    "z = s.split()\n",
    "print(z)"
   ]
  },
  {
   "cell_type": "code",
   "execution_count": null,
   "metadata": {
    "colab": {
     "base_uri": "https://localhost:8080/"
    },
    "executionInfo": {
     "elapsed": 408,
     "status": "ok",
     "timestamp": 1632779934674,
     "user": {
      "displayName": "Data Science August",
      "photoUrl": "https://lh3.googleusercontent.com/a/default-user=s64",
      "userId": "08053122235294494910"
     },
     "user_tz": 480
    },
    "id": "HqKaTlv1FJlR",
    "outputId": "87fecc7c-6562-4afd-d5f0-819e072aa636"
   },
   "outputs": [
    {
     "name": "stdout",
     "output_type": "stream",
     "text": [
      "['hi', 'there', 'dad!']\n"
     ]
    }
   ],
   "source": [
    "z[2] = 'dad!'\n",
    "print(z)"
   ]
  },
  {
   "cell_type": "markdown",
   "metadata": {
    "id": "3bgsK6GXFJlT"
   },
   "source": [
    "# Q3\n",
    "** Given the variables:**\n",
    "\n",
    "    planet = \"Earth\"\n",
    "    diameter = 12742\n",
    "\n",
    "** Use .format() to print the following string: **\n",
    "\n",
    "    The diameter of Earth is 12742 kilometers."
   ]
  },
  {
   "cell_type": "code",
   "execution_count": null,
   "metadata": {
    "collapsed": true,
    "id": "A59saJS2FJlU"
   },
   "outputs": [],
   "source": [
    "planet = \"Earth\"\n",
    "diameter = 12742"
   ]
  },
  {
   "cell_type": "code",
   "execution_count": null,
   "metadata": {
    "colab": {
     "base_uri": "https://localhost:8080/"
    },
    "executionInfo": {
     "elapsed": 382,
     "status": "ok",
     "timestamp": 1632780449849,
     "user": {
      "displayName": "Data Science August",
      "photoUrl": "https://lh3.googleusercontent.com/a/default-user=s64",
      "userId": "08053122235294494910"
     },
     "user_tz": 480
    },
    "id": "sGs2gkWJFJlW",
    "outputId": "3f84e9d0-698c-4be4-9155-af7e699e289c"
   },
   "outputs": [
    {
     "name": "stdout",
     "output_type": "stream",
     "text": [
      "The diameter of Earth is 12742 kilometers\n"
     ]
    }
   ],
   "source": [
    "print('The diameter of {} is {} kilometers'.format('Earth', 12742))"
   ]
  },
  {
   "cell_type": "markdown",
   "metadata": {
    "id": "DbiE97QeFJlX"
   },
   "source": [
    "# Q4\n",
    "** Given this nested list, use indexing to grab the word \"hello\" **"
   ]
  },
  {
   "cell_type": "code",
   "execution_count": null,
   "metadata": {
    "collapsed": true,
    "id": "ylng4ZhKFJlY"
   },
   "outputs": [],
   "source": [
    "lst = [1,2,[3,4],[5,[100,200,['hello']],23,11],1,7]"
   ]
  },
  {
   "cell_type": "code",
   "execution_count": null,
   "metadata": {
    "colab": {
     "base_uri": "https://localhost:8080/"
    },
    "executionInfo": {
     "elapsed": 409,
     "status": "ok",
     "timestamp": 1632781253214,
     "user": {
      "displayName": "Data Science August",
      "photoUrl": "https://lh3.googleusercontent.com/a/default-user=s64",
      "userId": "08053122235294494910"
     },
     "user_tz": 480
    },
    "id": "V7iwy2n_FJlZ",
    "outputId": "47cac249-a84b-40b8-f381-4a9e73411e0a"
   },
   "outputs": [
    {
     "name": "stdout",
     "output_type": "stream",
     "text": [
      "hello\n"
     ]
    }
   ],
   "source": [
    "lst = [1,2,[3,4],[5,[100,200,['hello']],23,11],1,7]\n",
    "print(lst[3][1][2][0]) "
   ]
  },
  {
   "cell_type": "markdown",
   "metadata": {
    "id": "CTiDifNOFJlZ"
   },
   "source": [
    "# Q5\n",
    "** Given this nested dictionary grab the word \"hello\". Be prepared, this will be annoying/tricky **"
   ]
  },
  {
   "cell_type": "code",
   "execution_count": null,
   "metadata": {
    "colab": {
     "base_uri": "https://localhost:8080/",
     "height": 36
    },
    "executionInfo": {
     "elapsed": 333,
     "status": "ok",
     "timestamp": 1632786067889,
     "user": {
      "displayName": "Data Science August",
      "photoUrl": "https://lh3.googleusercontent.com/a/default-user=s64",
      "userId": "08053122235294494910"
     },
     "user_tz": 480
    },
    "id": "hjMlIsqvFJla",
    "outputId": "1521f159-a86e-4bde-f5be-1fa96a2a66df"
   },
   "outputs": [
    {
     "data": {
      "application/vnd.google.colaboratory.intrinsic+json": {
       "type": "string"
      },
      "text/plain": [
       "'hello'"
      ]
     },
     "execution_count": 19,
     "metadata": {},
     "output_type": "execute_result"
    }
   ],
   "source": [
    "d = {'k1':[1,2,3,{'tricky':['oh','man','inception',{'target':[1,2,3,'hello']}]}]}\n",
    "d['k1'][3]['tricky'][3]['target'][3]"
   ]
  },
  {
   "cell_type": "code",
   "execution_count": 27,
   "metadata": {
    "executionInfo": {
     "elapsed": 347,
     "status": "ok",
     "timestamp": 1632795729581,
     "user": {
      "displayName": "Data Science August",
      "photoUrl": "https://lh3.googleusercontent.com/a/default-user=s64",
      "userId": "08053122235294494910"
     },
     "user_tz": 600
    },
    "id": "St3d4f8cFJlb"
   },
   "outputs": [],
   "source": [
    "x = d.get('target')"
   ]
  },
  {
   "cell_type": "markdown",
   "metadata": {
    "id": "dpi9edrxFJlb"
   },
   "source": [
    "# Q6\n",
    "** What is the main difference between a tuple and a list? **"
   ]
  },
  {
   "cell_type": "code",
   "execution_count": null,
   "metadata": {
    "collapsed": true,
    "id": "1HiaaTAJFJlb"
   },
   "outputs": [],
   "source": [
    "Tuples are immutalbe and lists are mutable"
   ]
  },
  {
   "cell_type": "markdown",
   "metadata": {
    "id": "IQgAzWg0FJlc"
   },
   "source": [
    "# Q7\n",
    "** Create a function that grabs the email website domain from a string in the form: **\n",
    "\n",
    "    user@domain.com\n",
    "    \n",
    "**So for example, passing \"user@domain.com\" would return: domain.com**"
   ]
  },
  {
   "cell_type": "code",
   "execution_count": 22,
   "metadata": {
    "colab": {
     "base_uri": "https://localhost:8080/",
     "height": 36
    },
    "collapsed": true,
    "executionInfo": {
     "elapsed": 344,
     "status": "ok",
     "timestamp": 1632795074595,
     "user": {
      "displayName": "Data Science August",
      "photoUrl": "https://lh3.googleusercontent.com/a/default-user=s64",
      "userId": "08053122235294494910"
     },
     "user_tz": 600
    },
    "id": "AuJUAfLaFJlc",
    "outputId": "67dfcce7-58d6-4f66-f54c-19f0d4f8a2e6"
   },
   "outputs": [
    {
     "data": {
      "application/vnd.google.colaboratory.intrinsic+json": {
       "type": "string"
      },
      "text/plain": [
       "'domain.com'"
      ]
     },
     "execution_count": 22,
     "metadata": {},
     "output_type": "execute_result"
    }
   ],
   "source": [
    "domainGet('user@domain.com')"
   ]
  },
  {
   "cell_type": "code",
   "execution_count": null,
   "metadata": {
    "colab": {
     "base_uri": "https://localhost:8080/",
     "height": 36
    },
    "executionInfo": {
     "elapsed": 296,
     "status": "ok",
     "timestamp": 1632786179805,
     "user": {
      "displayName": "Data Science August",
      "photoUrl": "https://lh3.googleusercontent.com/a/default-user=s64",
      "userId": "08053122235294494910"
     },
     "user_tz": 480
    },
    "id": "3gRYEjWSFJld",
    "outputId": "8087ede0-80f0-42f3-9937-aac6f0c34112"
   },
   "outputs": [
    {
     "data": {
      "application/vnd.google.colaboratory.intrinsic+json": {
       "type": "string"
      },
      "text/plain": [
       "'domain.com'"
      ]
     },
     "execution_count": 21,
     "metadata": {},
     "output_type": "execute_result"
    }
   ],
   "source": [
    "domainGet('user@domain.com')"
   ]
  },
  {
   "cell_type": "markdown",
   "metadata": {
    "id": "JGRykyXiFJld"
   },
   "source": [
    "# Q8\n",
    "** Create a basic function that returns True if the word 'dog' is contained in the input string**."
   ]
  },
  {
   "cell_type": "code",
   "execution_count": 23,
   "metadata": {
    "colab": {
     "base_uri": "https://localhost:8080/"
    },
    "collapsed": true,
    "executionInfo": {
     "elapsed": 320,
     "status": "ok",
     "timestamp": 1632795248407,
     "user": {
      "displayName": "Data Science August",
      "photoUrl": "https://lh3.googleusercontent.com/a/default-user=s64",
      "userId": "08053122235294494910"
     },
     "user_tz": 600
    },
    "id": "sICk2e7jFJld",
    "outputId": "5aa8ee3e-6926-4dda-ef0b-a42d92840f81"
   },
   "outputs": [
    {
     "name": "stdout",
     "output_type": "stream",
     "text": [
      "True\n"
     ]
    }
   ],
   "source": [
    "def findDog(sentence):\n",
    "    if 'dog' in sentence.lower():\n",
    "        print(\"True\")\n",
    "    else:\n",
    "        print(\"False\")\n",
    "\n",
    "sentence = \"Is there a dog here?\"\n",
    "findDog(sentence)"
   ]
  },
  {
   "cell_type": "code",
   "execution_count": null,
   "metadata": {
    "id": "Urc3OvjTFJle",
    "outputId": "3e10086d-8213-42e5-c27f-359f058476db"
   },
   "outputs": [
    {
     "data": {
      "text/plain": [
       "True"
      ]
     },
     "execution_count": 28,
     "metadata": {},
     "output_type": "execute_result"
    }
   ],
   "source": [
    "findDog('Is there a dog here?')"
   ]
  },
  {
   "cell_type": "markdown",
   "metadata": {
    "id": "3PWxTQz-FJle"
   },
   "source": [
    "# Q9\n",
    "** Create a function that counts the number of times the word \"dog\" occurs in a string **"
   ]
  },
  {
   "cell_type": "code",
   "execution_count": 26,
   "metadata": {
    "colab": {
     "base_uri": "https://localhost:8080/"
    },
    "executionInfo": {
     "elapsed": 329,
     "status": "ok",
     "timestamp": 1632795532911,
     "user": {
      "displayName": "Data Science August",
      "photoUrl": "https://lh3.googleusercontent.com/a/default-user=s64",
      "userId": "08053122235294494910"
     },
     "user_tz": 600
    },
    "id": "C2kwAy36FJle",
    "outputId": "565c965f-8397-4683-cc21-64796bbf93ea"
   },
   "outputs": [
    {
     "name": "stdout",
     "output_type": "stream",
     "text": [
      "1\n",
      "2\n"
     ]
    }
   ],
   "source": [
    "number = 'This dog runs faster than the other dog dude!'\n",
    "\n",
    "def countdogs(number):\n",
    "    count = 0\n",
    "    for word in number.lower().split():\n",
    "        if word == 'dog' or word == 'dogs':\n",
    "            count = count + 1\n",
    "            print(count)\n",
    "\n",
    "countdogs(number)"
   ]
  },
  {
   "cell_type": "code",
   "execution_count": null,
   "metadata": {
    "id": "beohx2doFJle",
    "outputId": "a037ff73-a7b3-462e-9b34-d3d8f5c240ac"
   },
   "outputs": [
    {
     "data": {
      "text/plain": [
       "2"
      ]
     },
     "execution_count": 31,
     "metadata": {},
     "output_type": "execute_result"
    }
   ],
   "source": [
    "countDog('This dog runs faster than the other dog dude!')"
   ]
  },
  {
   "cell_type": "markdown",
   "metadata": {
    "id": "tNvwPdidFJlf"
   },
   "source": [
    "# Q10\n",
    "** Use lambda expressions and the filter() function to filter out words from a list that don't start with the letter 's'. For example:**\n",
    "\n",
    "    seq = ['soup','dog','salad','cat','great']\n",
    "\n",
    "**should be filtered down to:**\n",
    "\n",
    "    ['soup','salad']"
   ]
  },
  {
   "cell_type": "code",
   "execution_count": null,
   "metadata": {
    "collapsed": true,
    "id": "njpuRm5ZFJlf"
   },
   "outputs": [],
   "source": [
    "seq = ['soup','dog','salad','cat','great']"
   ]
  },
  {
   "cell_type": "code",
   "execution_count": null,
   "metadata": {
    "id": "O8rG2jVnFJlf",
    "outputId": "f252f76a-b8d2-4b85-d41a-9a431971f5f8"
   },
   "outputs": [
    {
     "data": {
      "text/plain": [
       "['soup', 'salad']"
      ]
     },
     "execution_count": 35,
     "metadata": {},
     "output_type": "execute_result"
    }
   ],
   "source": []
  },
  {
   "cell_type": "markdown",
   "metadata": {
    "id": "xZ94Az1XFJlg"
   },
   "source": [
    "# Good Luck!"
   ]
  },
  {
   "cell_type": "code",
   "execution_count": null,
   "metadata": {
    "id": "XTHl2T_4FJlg"
   },
   "outputs": [],
   "source": []
  }
 ],
 "metadata": {
  "colab": {
   "collapsed_sections": [],
   "name": "Python programming  Exercise.ipynb",
   "provenance": []
  },
  "kernelspec": {
   "display_name": "Python 3 (ipykernel)",
   "language": "python",
   "name": "python3"
  },
  "language_info": {
   "codemirror_mode": {
    "name": "ipython",
    "version": 3
   },
   "file_extension": ".py",
   "mimetype": "text/x-python",
   "name": "python",
   "nbconvert_exporter": "python",
   "pygments_lexer": "ipython3",
   "version": "3.10.9"
  }
 },
 "nbformat": 4,
 "nbformat_minor": 1
}
